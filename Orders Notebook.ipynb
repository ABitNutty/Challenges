{
 "cells": [
  {
   "cell_type": "markdown",
   "metadata": {},
   "source": [
    "### Klaviyo Exercise\n",
    "In order to remove bias, we have anonymized this step of the interview process. \n",
    "\n",
    " * **Please do not deanonymize yourself in this jupyter notebook**.\n",
    " * **Please write your code and solutions in this notebook and return it to us when you are finished**."
   ]
  },
  {
   "cell_type": "markdown",
   "metadata": {},
   "source": [
    "### Interpreting the Dataset\n",
    "In these exercises, you will work with sales data from a marketplace with several stores.  The attached CSV file lists the customer, date, and dollar value of orders placed in 2017. Assume that there is only one product in each order. The store ID and product ID are also included for each ordered product. The gender of each customer is also provided. Please do not exclude $0 orders.\n",
    "\n",
    "### Exercise 1\n",
    "Assemble a dataframe with one row per customer and the following columns:\n",
    "* customer_id \n",
    "* gender\n",
    "* most_recent_order_date \n",
    "* order_count (number of orders placed by this customer)\n",
    "\n",
    "Sort the dataframe by customer_id ascending and display the first 10 rows."
   ]
  },
  {
   "cell_type": "code",
   "execution_count": 1,
   "metadata": {},
   "outputs": [
    {
     "data": {
      "text/html": [
       "<div>\n",
       "<style scoped>\n",
       "    .dataframe tbody tr th:only-of-type {\n",
       "        vertical-align: middle;\n",
       "    }\n",
       "\n",
       "    .dataframe tbody tr th {\n",
       "        vertical-align: top;\n",
       "    }\n",
       "\n",
       "    .dataframe thead th {\n",
       "        text-align: right;\n",
       "    }\n",
       "</style>\n",
       "<table border=\"1\" class=\"dataframe\">\n",
       "  <thead>\n",
       "    <tr style=\"text-align: right;\">\n",
       "      <th></th>\n",
       "      <th>customer_id</th>\n",
       "      <th>gender</th>\n",
       "      <th>date</th>\n",
       "      <th>product_value</th>\n",
       "      <th>store_id</th>\n",
       "      <th>product_id</th>\n",
       "      <th>product_is_red</th>\n",
       "    </tr>\n",
       "  </thead>\n",
       "  <tbody>\n",
       "    <tr>\n",
       "      <td>0</td>\n",
       "      <td>1000</td>\n",
       "      <td>0</td>\n",
       "      <td>2017-01-01 00:11:31</td>\n",
       "      <td>72.346503</td>\n",
       "      <td>5</td>\n",
       "      <td>516</td>\n",
       "      <td>True</td>\n",
       "    </tr>\n",
       "    <tr>\n",
       "      <td>1</td>\n",
       "      <td>1001</td>\n",
       "      <td>0</td>\n",
       "      <td>2017-01-01 00:29:56</td>\n",
       "      <td>326.006005</td>\n",
       "      <td>2</td>\n",
       "      <td>287</td>\n",
       "      <td>False</td>\n",
       "    </tr>\n",
       "    <tr>\n",
       "      <td>2</td>\n",
       "      <td>1002</td>\n",
       "      <td>1</td>\n",
       "      <td>2017-01-01 01:30:31</td>\n",
       "      <td>420.453635</td>\n",
       "      <td>4</td>\n",
       "      <td>450</td>\n",
       "      <td>False</td>\n",
       "    </tr>\n",
       "    <tr>\n",
       "      <td>3</td>\n",
       "      <td>1003</td>\n",
       "      <td>1</td>\n",
       "      <td>2017-01-01 01:34:22</td>\n",
       "      <td>377.703064</td>\n",
       "      <td>0</td>\n",
       "      <td>81</td>\n",
       "      <td>True</td>\n",
       "    </tr>\n",
       "    <tr>\n",
       "      <td>4</td>\n",
       "      <td>1004</td>\n",
       "      <td>0</td>\n",
       "      <td>2017-01-01 03:11:54</td>\n",
       "      <td>35.620216</td>\n",
       "      <td>7</td>\n",
       "      <td>743</td>\n",
       "      <td>False</td>\n",
       "    </tr>\n",
       "  </tbody>\n",
       "</table>\n",
       "</div>"
      ],
      "text/plain": [
       "   customer_id  gender                 date  product_value  store_id  \\\n",
       "0         1000       0  2017-01-01 00:11:31      72.346503         5   \n",
       "1         1001       0  2017-01-01 00:29:56     326.006005         2   \n",
       "2         1002       1  2017-01-01 01:30:31     420.453635         4   \n",
       "3         1003       1  2017-01-01 01:34:22     377.703064         0   \n",
       "4         1004       0  2017-01-01 03:11:54      35.620216         7   \n",
       "\n",
       "   product_id  product_is_red  \n",
       "0         516            True  \n",
       "1         287           False  \n",
       "2         450           False  \n",
       "3          81            True  \n",
       "4         743           False  "
      ]
     },
     "execution_count": 1,
     "metadata": {},
     "output_type": "execute_result"
    }
   ],
   "source": [
    "# Importing modules and data\n",
    "import pandas as pd\n",
    "import numpy as np\n",
    "\n",
    "sales = pd.read_csv('screening_exercise_orders_v202101.csv')\n",
    "sales.head()"
   ]
  },
  {
   "cell_type": "code",
   "execution_count": 2,
   "metadata": {},
   "outputs": [],
   "source": [
    "# Grouping data by customer id and counting sales volume\n",
    "customers = sales.groupby('customer_id')['date'].count()\n",
    "customers =  customers.to_frame().rename(columns = {'date':'order_count'})"
   ]
  },
  {
   "cell_type": "code",
   "execution_count": 3,
   "metadata": {},
   "outputs": [],
   "source": [
    "# Grouping data by customer id and last sale date\n",
    "last_order = sales.groupby('customer_id')['date'].max()\n",
    "last_order = last_order.to_frame().rename(columns = {'date':'most_recent_order_date'})"
   ]
  },
  {
   "cell_type": "code",
   "execution_count": 4,
   "metadata": {},
   "outputs": [
    {
     "data": {
      "text/html": [
       "<div>\n",
       "<style scoped>\n",
       "    .dataframe tbody tr th:only-of-type {\n",
       "        vertical-align: middle;\n",
       "    }\n",
       "\n",
       "    .dataframe tbody tr th {\n",
       "        vertical-align: top;\n",
       "    }\n",
       "\n",
       "    .dataframe thead th {\n",
       "        text-align: right;\n",
       "    }\n",
       "</style>\n",
       "<table border=\"1\" class=\"dataframe\">\n",
       "  <thead>\n",
       "    <tr style=\"text-align: right;\">\n",
       "      <th></th>\n",
       "      <th>gender</th>\n",
       "      <th>most_recent_order_date</th>\n",
       "      <th>order_count</th>\n",
       "    </tr>\n",
       "    <tr>\n",
       "      <th>customer_id</th>\n",
       "      <th></th>\n",
       "      <th></th>\n",
       "      <th></th>\n",
       "    </tr>\n",
       "  </thead>\n",
       "  <tbody>\n",
       "    <tr>\n",
       "      <td>1000</td>\n",
       "      <td>0</td>\n",
       "      <td>2017-01-01 00:11:31</td>\n",
       "      <td>1</td>\n",
       "    </tr>\n",
       "    <tr>\n",
       "      <td>1001</td>\n",
       "      <td>0</td>\n",
       "      <td>2017-01-01 00:29:56</td>\n",
       "      <td>1</td>\n",
       "    </tr>\n",
       "    <tr>\n",
       "      <td>1002</td>\n",
       "      <td>1</td>\n",
       "      <td>2017-02-19 21:35:31</td>\n",
       "      <td>3</td>\n",
       "    </tr>\n",
       "    <tr>\n",
       "      <td>1002</td>\n",
       "      <td>1</td>\n",
       "      <td>2017-02-19 21:35:31</td>\n",
       "      <td>3</td>\n",
       "    </tr>\n",
       "    <tr>\n",
       "      <td>1002</td>\n",
       "      <td>1</td>\n",
       "      <td>2017-02-19 21:35:31</td>\n",
       "      <td>3</td>\n",
       "    </tr>\n",
       "    <tr>\n",
       "      <td>1003</td>\n",
       "      <td>1</td>\n",
       "      <td>2017-04-26 02:37:20</td>\n",
       "      <td>4</td>\n",
       "    </tr>\n",
       "    <tr>\n",
       "      <td>1003</td>\n",
       "      <td>1</td>\n",
       "      <td>2017-04-26 02:37:20</td>\n",
       "      <td>4</td>\n",
       "    </tr>\n",
       "    <tr>\n",
       "      <td>1003</td>\n",
       "      <td>1</td>\n",
       "      <td>2017-04-26 02:37:20</td>\n",
       "      <td>4</td>\n",
       "    </tr>\n",
       "    <tr>\n",
       "      <td>1003</td>\n",
       "      <td>1</td>\n",
       "      <td>2017-04-26 02:37:20</td>\n",
       "      <td>4</td>\n",
       "    </tr>\n",
       "    <tr>\n",
       "      <td>1004</td>\n",
       "      <td>0</td>\n",
       "      <td>2017-01-01 03:11:54</td>\n",
       "      <td>1</td>\n",
       "    </tr>\n",
       "  </tbody>\n",
       "</table>\n",
       "</div>"
      ],
      "text/plain": [
       "             gender most_recent_order_date  order_count\n",
       "customer_id                                            \n",
       "1000              0    2017-01-01 00:11:31            1\n",
       "1001              0    2017-01-01 00:29:56            1\n",
       "1002              1    2017-02-19 21:35:31            3\n",
       "1002              1    2017-02-19 21:35:31            3\n",
       "1002              1    2017-02-19 21:35:31            3\n",
       "1003              1    2017-04-26 02:37:20            4\n",
       "1003              1    2017-04-26 02:37:20            4\n",
       "1003              1    2017-04-26 02:37:20            4\n",
       "1003              1    2017-04-26 02:37:20            4\n",
       "1004              0    2017-01-01 03:11:54            1"
      ]
     },
     "execution_count": 4,
     "metadata": {},
     "output_type": "execute_result"
    }
   ],
   "source": [
    "# Joinging data into one dataframe\n",
    "customers = customers.join(last_order)\n",
    "customers = pd.merge(customers,sales,on='customer_id',how='left')\n",
    "customers = customers.drop(['date', 'product_value', 'store_id','product_id', 'product_is_red'], axis=1)\n",
    "\n",
    "# Reordering the dataframe\n",
    "customers = customers[['customer_id','gender','most_recent_order_date','order_count']].set_index('customer_id')\n",
    "\n",
    "# Display results\n",
    "customers.head(10)"
   ]
  },
  {
   "cell_type": "code",
   "execution_count": null,
   "metadata": {},
   "outputs": [],
   "source": []
  },
  {
   "cell_type": "markdown",
   "metadata": {},
   "source": [
    "### Exercise 2\n",
    "Plot the total order count for the marketplace by week. Do not use plotly, as plotly graphs in Jupyter Notebooks don't render correctly on different machines."
   ]
  },
  {
   "cell_type": "code",
   "execution_count": 5,
   "metadata": {},
   "outputs": [],
   "source": [
    "# Importing packages\n",
    "import matplotlib.pyplot as plt"
   ]
  },
  {
   "cell_type": "code",
   "execution_count": 6,
   "metadata": {},
   "outputs": [],
   "source": [
    "# Converting date column to datetimeindex\n",
    "sales['date'] = pd.to_datetime(sales['date'])\n",
    "sales = sales.set_index('date')"
   ]
  },
  {
   "cell_type": "code",
   "execution_count": 7,
   "metadata": {},
   "outputs": [],
   "source": [
    "# Resample timeseries data -- counting customer id's just counts how many rows (orders), not unique id's\n",
    "weekly_resample = sales.resample('7D').count()['customer_id']"
   ]
  },
  {
   "cell_type": "code",
   "execution_count": 26,
   "metadata": {
    "scrolled": true
   },
   "outputs": [
    {
     "data": {
      "image/png": "[encoded data removed]",
      "text/plain": [
       "<Figure size 1296x360 with 1 Axes>"
      ]
     },
     "metadata": {
      "needs_background": "light"
     },
     "output_type": "display_data"
    }
   ],
   "source": [
    "# Creating Visual\n",
    "plt.figure(figsize=(18, 5))\n",
    "plt.plot(weekly_resample)\n",
    "plt.title('Weekly order volume')\n",
    "plt.xlabel('Date')\n",
    "plt.ylabel('Order Volume')\n",
    "plt.show()"
   ]
  },
  {
   "cell_type": "markdown",
   "metadata": {},
   "source": [
    "### Exercise 3\n",
    "\n",
    "Compute the mean order value for gender 0 and for gender 1. Do you think the difference is significant? \n",
    "\n",
    "**Justify your choice of method and state any assumptions you make**."
   ]
  },
  {
   "cell_type": "code",
   "execution_count": null,
   "metadata": {},
   "outputs": [],
   "source": []
  },
  {
   "cell_type": "markdown",
   "metadata": {},
   "source": [
    "# Approach and assumptions\n",
    "\n",
    "As the samples are not normally distributed, and there is only one sample of orders for each population, I will also create bootstrap replicates of the mean order values for each population. This will create a set of normally distributed sample statistics. By mean shifting the samples, the set of sample statistics will have mean zero. \n",
    "\n",
    "We then test the hypothesis <br>\n",
    "Ho: gender_1 mean - gender_0 mean = 0 <br>\n",
    "Ha: gender_1 mean - gender_0 mean > 0 \n",
    "\n",
    "If our bootstrapped replicates create a p-value of less than 0.05, we will have confidence at 95% that the difference in means observed is statistically significant. \n",
    "\n",
    "Since the samples are large, I will also run a two-sample z-test to see if results are different from the bootstrap approach. \n"
   ]
  },
  {
   "cell_type": "code",
   "execution_count": null,
   "metadata": {},
   "outputs": [],
   "source": []
  },
  {
   "cell_type": "code",
   "execution_count": 9,
   "metadata": {},
   "outputs": [
    {
     "name": "stdout",
     "output_type": "stream",
     "text": [
      "Gender 0 mean: 446.42790647964915 on 6759 orders\n",
      "Gender 1 mean: 462.59273386174374 on 6712 orders\n"
     ]
    }
   ],
   "source": [
    "# Separate populations\n",
    "gender_0_orders = sales.product_value[sales.gender==0]\n",
    "gender_1_orders = sales.product_value[sales.gender==1]\n",
    "\n",
    "# Mean/std order value gender 0\n",
    "gen_0 = gender_0_orders.mean()\n",
    "std_0 = gender_0_orders.std()\n",
    "print('Gender 0 mean: '+ str(gen_0) + ' on ' + str(len(sales.product_value[sales.gender==0])) + ' orders')\n",
    "\n",
    "# Mean/std order value gender 1\n",
    "gen_1 = gender_1_orders.mean()\n",
    "std_1 = gender_1_orders.std()\n",
    "print('Gender 1 mean: '+str(gen_1) + ' on ' + str(len(sales.product_value[sales.gender==1])) + ' orders')"
   ]
  },
  {
   "cell_type": "code",
   "execution_count": 25,
   "metadata": {},
   "outputs": [
    {
     "data": {
      "image/png": "[encoded data removed]",
      "text/plain": [
       "<Figure size 1296x360 with 1 Axes>"
      ]
     },
     "metadata": {
      "needs_background": "light"
     },
     "output_type": "display_data"
    }
   ],
   "source": [
    "# Create histogram containing both populations\n",
    "plt.figure(figsize=(18, 5))\n",
    "\n",
    "\n",
    "plt.hist(gender_0_orders, bins=40, alpha=0.5, label='Gender 0')\n",
    "plt.hist(gender_1_orders, bins=40, alpha=0.5, label='Gender 1')\n",
    "plt.axvline(gen_0 ,color='b')\n",
    "plt.axvline(gen_1 ,color='r')\n",
    "plt.legend()\n",
    "plt.xlim(xmin=0, xmax = 3000)\n",
    "plt.xlabel('Order value')\n",
    "plt.title('Comparison of order value* by gender')\n",
    "plt.text(1600, 1600, '*Orders over 3000 not seen in visual while still used in mean calculations',\n",
    "        color='red', fontsize=10)\n",
    "plt.show()"
   ]
  },
  {
   "cell_type": "code",
   "execution_count": 11,
   "metadata": {},
   "outputs": [],
   "source": [
    "# Bootstrapping tools\n",
    "\n",
    "np.random.seed(47)\n",
    "N_rep = 10000\n",
    "\n",
    "def bootstrap_replicate_1d(data, func):\n",
    "    \"\"\"Generate single bootstrap replicate of 1D data.\"\"\"\n",
    "    bs_sample = np.random.choice(data, len(data))\n",
    "    return func(bs_sample)\n",
    "\n",
    "def create_bs_reps_array(data, func, size=1):\n",
    "    \"\"\"Creates an array of size input creating bootstrap replicates of function statistic.\"\"\"\n",
    "\n",
    "    # Initialize array of replicates: bs_replicates\n",
    "    bs_replicates = np.empty(size)\n",
    "\n",
    "    # Generate replicates\n",
    "    for i in range(size):\n",
    "        bs_replicates[i] = bootstrap_replicate_1d(data, func)\n",
    "\n",
    "    return bs_replicates"
   ]
  },
  {
   "cell_type": "code",
   "execution_count": 12,
   "metadata": {},
   "outputs": [
    {
     "name": "stdout",
     "output_type": "stream",
     "text": [
      "p-value = 0.0254\n"
     ]
    }
   ],
   "source": [
    "# Creating mean shifted charges arrays\n",
    "gender_0_orders = sales.product_value[sales.gender==0]\n",
    "gender_1_orders = sales.product_value[sales.gender==1]\n",
    "\n",
    "gen_0_mean = sales.product_value[sales.gender==0].mean()\n",
    "gen_1_mean = sales.product_value[sales.gender==1].mean()\n",
    "combined_mean = sales.product_value.mean()\n",
    "\n",
    "gen_0_shifted = gender_0_orders - gen_0_mean + combined_mean\n",
    "gen_1_shifted = gender_1_orders - gen_1_mean + combined_mean\n",
    "\n",
    "# Creating bootstrap samples\n",
    "bs_gen_0_mean = create_bs_reps_array(gen_0_shifted, np.mean, size=10000)\n",
    "bs_gen_1_mean = create_bs_reps_array(gen_1_shifted, np.mean, size=10000)\n",
    "\n",
    "# Bootstraped replicates of difference of means\n",
    "bs_difference = bs_gen_1_mean - bs_gen_0_mean\n",
    "\n",
    "# Find probablity of events at least as extreme as observed\n",
    "p = np.sum(bs_difference >= gen_1_mean-gen_0_mean) / len(bs_difference)\n",
    "print('p-value =', p)"
   ]
  },
  {
   "cell_type": "markdown",
   "metadata": {},
   "source": [
    "# 2 sample bootstrap replicates conclusion\n",
    "\n",
    "With only 2.18% of samples creating a mean difference at least as extreme as observed, we can reject the null hypothesis that the population means are equal and establish that the difference observed is statistically significant. "
   ]
  },
  {
   "cell_type": "code",
   "execution_count": null,
   "metadata": {},
   "outputs": [],
   "source": []
  },
  {
   "cell_type": "code",
   "execution_count": null,
   "metadata": {},
   "outputs": [],
   "source": []
  },
  {
   "cell_type": "code",
   "execution_count": 13,
   "metadata": {
    "scrolled": true
   },
   "outputs": [
    {
     "data": {
      "text/plain": [
       "1.9722929726833616"
      ]
     },
     "execution_count": 13,
     "metadata": {},
     "output_type": "execute_result"
    }
   ],
   "source": [
    "# 2 sample z test\n",
    "z = (gen_1_mean-gen_0_mean)/np.sqrt(std_1**2/len(gender_1_orders)+std_0**2/len(gender_0_orders))\n",
    "z"
   ]
  },
  {
   "cell_type": "markdown",
   "metadata": {},
   "source": [
    "# 2 sample Z-test conclusion\n",
    "A z-score of 1.99 > 1.65. The null hypothesis is rejected at a significance level of 0.05."
   ]
  },
  {
   "cell_type": "code",
   "execution_count": null,
   "metadata": {},
   "outputs": [],
   "source": []
  },
  {
   "cell_type": "markdown",
   "metadata": {},
   "source": [
    "### Exercise 4\n",
    "\n",
    "Suppose that some of our customers told us that they believe red products are more eye-catching and therefore easier to sell. Based on the dataset provided, would you suggest that companies should color more of their products red? Why or why not and what other factors could be important to determine this? \n",
    "\n",
    "**Please justify your answer and state any assumptions you make.**"
   ]
  },
  {
   "cell_type": "code",
   "execution_count": null,
   "metadata": {},
   "outputs": [],
   "source": []
  },
  {
   "cell_type": "markdown",
   "metadata": {},
   "source": [
    "# Assumptions and approach\n",
    "\n",
    "\"Easier to sell\" first needs a quantitative definition. My interpretation is that easier to sell will translate to a higher volume of sales of red products than non-red products. Price of the item will be ignored, although it is acknowledged that product price can directly affect an item's ability to sell. \n",
    "\n",
    "If the red items were exactly as easy to sell as a non-red item, we could assume that each population would get 50% of the sales. With 13471 items sold, we would expect 6735.5 of each. \n",
    "\n",
    "I will calculate a chi-squared test statistic comparing the observed and expected frequencies. \n",
    "\n",
    "Null Hypothesis: The proportions of red and not-red items are equal. \n",
    "Alternative Hypothesis: At least one of the proportions are not equal to the predicted model (i.e. the proportions are not equal since there are only two categories)"
   ]
  },
  {
   "cell_type": "code",
   "execution_count": 14,
   "metadata": {},
   "outputs": [],
   "source": [
    "red_orders = sales.groupby('product_is_red').agg({'product_value':np.mean,\"product_id\":'count'})\n",
    "red_orders.columns = ['average_value','frequency']"
   ]
  },
  {
   "cell_type": "code",
   "execution_count": 15,
   "metadata": {},
   "outputs": [
    {
     "data": {
      "text/html": [
       "<div>\n",
       "<style scoped>\n",
       "    .dataframe tbody tr th:only-of-type {\n",
       "        vertical-align: middle;\n",
       "    }\n",
       "\n",
       "    .dataframe tbody tr th {\n",
       "        vertical-align: top;\n",
       "    }\n",
       "\n",
       "    .dataframe thead th {\n",
       "        text-align: right;\n",
       "    }\n",
       "</style>\n",
       "<table border=\"1\" class=\"dataframe\">\n",
       "  <thead>\n",
       "    <tr style=\"text-align: right;\">\n",
       "      <th></th>\n",
       "      <th>average_value</th>\n",
       "      <th>frequency</th>\n",
       "    </tr>\n",
       "    <tr>\n",
       "      <th>product_is_red</th>\n",
       "      <th></th>\n",
       "      <th></th>\n",
       "    </tr>\n",
       "  </thead>\n",
       "  <tbody>\n",
       "    <tr>\n",
       "      <td>False</td>\n",
       "      <td>437.911450</td>\n",
       "      <td>5904</td>\n",
       "    </tr>\n",
       "    <tr>\n",
       "      <td>True</td>\n",
       "      <td>467.411055</td>\n",
       "      <td>7567</td>\n",
       "    </tr>\n",
       "  </tbody>\n",
       "</table>\n",
       "</div>"
      ],
      "text/plain": [
       "                average_value  frequency\n",
       "product_is_red                          \n",
       "False              437.911450       5904\n",
       "True               467.411055       7567"
      ]
     },
     "execution_count": 15,
     "metadata": {},
     "output_type": "execute_result"
    }
   ],
   "source": [
    "red_orders"
   ]
  },
  {
   "cell_type": "code",
   "execution_count": 16,
   "metadata": {},
   "outputs": [],
   "source": [
    "from scipy.stats import chisquare\n",
    "\n",
    "# scipy.stats.chisquare assumes equal proportions unless provided with different. 50/50 is what we are running\n",
    "chi_squared, p = chisquare(red_orders.frequency)"
   ]
  },
  {
   "cell_type": "code",
   "execution_count": 17,
   "metadata": {},
   "outputs": [
    {
     "data": {
      "text/plain": [
       "205.29797342439315"
      ]
     },
     "execution_count": 17,
     "metadata": {},
     "output_type": "execute_result"
    }
   ],
   "source": [
    "chi_squared"
   ]
  },
  {
   "cell_type": "code",
   "execution_count": 18,
   "metadata": {},
   "outputs": [
    {
     "data": {
      "text/plain": [
       "1.45803837841609e-46"
      ]
     },
     "execution_count": 18,
     "metadata": {},
     "output_type": "execute_result"
    }
   ],
   "source": [
    "p"
   ]
  },
  {
   "cell_type": "code",
   "execution_count": 19,
   "metadata": {},
   "outputs": [
    {
     "data": {
      "text/plain": [
       "product_is_red\n",
       "False    0.438275\n",
       "True     0.561725\n",
       "Name: frequency, dtype: float64"
      ]
     },
     "execution_count": 19,
     "metadata": {},
     "output_type": "execute_result"
    }
   ],
   "source": [
    "# Observed proportions\n",
    "red_orders.frequency/len(sales)"
   ]
  },
  {
   "cell_type": "markdown",
   "metadata": {},
   "source": [
    "# Chi-Square conclusion\n",
    "\n",
    "If the observed and expected frequencies would have been equal, the chi-squared would have been zero. As the p-value for this test was much lower than any alpha, we can successfully conclude that the proportion of red/not-red products is not 50/50 and the true proportion of red items sold is closer to the 56% observed, making the red items more likely to sell than the non-red items. "
   ]
  },
  {
   "cell_type": "code",
   "execution_count": null,
   "metadata": {},
   "outputs": [],
   "source": []
  },
  {
   "cell_type": "markdown",
   "metadata": {},
   "source": [
    "### Exercise 5\n",
    "\n",
    "Describe one of your favorite tools or techniques and give a small example of how it has helped you solve a problem. Limit your answer to one short paragraph, and please be specific. "
   ]
  },
  {
   "cell_type": "code",
   "execution_count": null,
   "metadata": {},
   "outputs": [],
   "source": []
  },
  {
   "cell_type": "markdown",
   "metadata": {},
   "source": [
    "I think the Pandas dataframe is one of my favorite tools. As someone who has done a good amount of programming before, I was new to Python around November 2019. The dataframe has been a joy to work with, as there is something satisfying about vectorizing process instead of writing loops to modify specific data entries based on conditionals. \n",
    "\n",
    "Recently, I had a time series dataframe where each entry was a mission for a robot. Not all entries were for the same robot, and I was trying to calculate an average time between missions. Since the time delta was only relevant if the robotID was the same from row to row, but also the missionID had to be adjacent, I had to do more than just calculate the time delta in for each row. In the past, I would have looped, and checked each robotID and missionID with conditionals, and only recorded the time delta if the conditionals passed. \n",
    "\n",
    "The process of creating the masks allowed me to update the time delta, only for those rows that met the each conditional, without running a loop. \n",
    "\n",
    "I was personally excited about this method, as I have been personally battling with \"SettingWithCopy\" warnings in some scenarios similar to this, but the masking approach solved my issue there. "
   ]
  },
  {
   "cell_type": "code",
   "execution_count": null,
   "metadata": {},
   "outputs": [],
   "source": [
    "\"\"\"This code will not run, it is merely ment to show my example\"\"\"\n",
    "\n",
    "\n",
    "# A filter for making sure consecutive rows refer to same robot\n",
    "filter1 = mission['robotid'] == mission['robotid'].shift()\n",
    "\n",
    "# A filter for making sure consecutive rows are consecutive mission numbers\n",
    "filter2 = mission.nmssn == (mission.nmssn.shift()+1)\n",
    "\n",
    "# Applying the filters to the time_delta data, creating minutes since last mission (mission start to mission start)\n",
    "mission.IMI.mask(filter1 & filter2, other = mission.delta, inplace=True)"
   ]
  }
 ],
 "metadata": {
  "kernelspec": {
   "display_name": "Python 3",
   "language": "python",
   "name": "python3"
  },
  "language_info": {
   "codemirror_mode": {
    "name": "ipython",
    "version": 3
   },
   "file_extension": ".py",
   "mimetype": "text/x-python",
   "name": "python",
   "nbconvert_exporter": "python",
   "pygments_lexer": "ipython3",
   "version": "3.7.4"
  }
 },
 "nbformat": 4,
 "nbformat_minor": 2
}
