{
 "cells": [
  {
   "cell_type": "markdown",
   "metadata": {},
   "source": [
    "# Shortest distance problem\n",
    "\n",
    "This code is my solution to the shortest distance problem. I was given this problem in a coding challenge and was not happy with my submission so I tried again. \n",
    "\n",
    "Given a list of x coordinates and a list of corresponding y coordinates, find the shortest distance between any two points. \n",
    "\n",
    "# Notes\n",
    "\n",
    "- This code only works for equal length x and y lists, a simple check could be made at input but I deemed it unnecessary. I'm assuming inputs are correctly formated for problem. \n",
    "- Code also requires a minimum of two points. \n",
    "\n",
    "- After completion and cleanup, I realized the creation of the points as objects was unnecessary. Initially, I was sorting x values and needed the y-values to go with them, but the end solution did not need that order. I could have written the loop over the x values and used x and y lists within the loop as opposed to recreating them. \n",
    "\n",
    "- For a large volume of points, this code could be improved. It does a brute force distance calculation between every possible pairing of points. \n",
    "\n",
    "- In test case 3 I considered the implications of a duplicated point in the point lists. As a mathematician, I know the real numbers to be distinct and the implications of the ruler postulate leading to the conclusion that every point is unique and there is only one point in any given location. A point repeated in the list is really just one point and not two, and I do not want my code to return zero as a distance. "
   ]
  },
  {
   "cell_type": "code",
   "execution_count": 1,
   "metadata": {},
   "outputs": [],
   "source": [
    "import numpy as np"
   ]
  },
  {
   "cell_type": "code",
   "execution_count": null,
   "metadata": {},
   "outputs": [],
   "source": [
    "            "
   ]
  },
  {
   "cell_type": "code",
   "execution_count": 2,
   "metadata": {},
   "outputs": [],
   "source": [
    "def shortest_distance(x, y):\n",
    "    # Function takes equal length lists of x and y values representing x-y coordinates of points and returns\n",
    "    # the shortest distance between any two points\n",
    "    # Code also requires two points and will fail if handed only 1 x-y pair. \n",
    "\n",
    "    # Creating a list of each point with x and y paired\n",
    "    points = []\n",
    "    for i in range(len(x)):\n",
    "        points.append([x[i], y[i]])    \n",
    "\n",
    "    # This initialize is not actually the distance between any two points but a distance gauranteed \n",
    "    # to be larger than distance of interest. It is the \"corner-to-corner\" distance of the point window\n",
    "    shortest_dist = np.sqrt((max(x)-min(x))**2 + (max(y)-min(y))**2)\n",
    "\n",
    "    for point in points:\n",
    "        \n",
    "        x_list = [point[0] for point in points]\n",
    "        y_list = [point[1] for point in points]\n",
    "\n",
    "        # These are the squares of the delta x's and delta y's on each point pairing\n",
    "        x_dists = [(x_list[i] - point[0])**2 for i in range(len(x_list))]\n",
    "        y_dists = [(y_list[i] - point[1])**2 for i in range(len(y_list))]\n",
    "\n",
    "        # Distance formula completion\n",
    "        dists = np.sqrt(np.add(x_dists, y_dists))\n",
    "        dists = np.sort(dists[dists != 0])\n",
    "        \n",
    "        # Checking for minimum distance\n",
    "        if dists[0] < shortest_dist:\n",
    "            shortest_dist = dists[0]\n",
    "            \n",
    "    print ('The shortest distance is:')\n",
    "    print (shortest_dist)\n",
    "    \n",
    "    return shortest_dist"
   ]
  },
  {
   "cell_type": "code",
   "execution_count": null,
   "metadata": {},
   "outputs": [],
   "source": []
  },
  {
   "cell_type": "code",
   "execution_count": 3,
   "metadata": {},
   "outputs": [
    {
     "name": "stdout",
     "output_type": "stream",
     "text": [
      "The shortest distance is:\n",
      "5.0\n"
     ]
    }
   ],
   "source": [
    "## Test case 1 -- Two points \n",
    "x = [0,3]\n",
    "y = [0,4]\n",
    "\n",
    "dist = shortest_distance(x, y)"
   ]
  },
  {
   "cell_type": "code",
   "execution_count": 4,
   "metadata": {},
   "outputs": [
    {
     "name": "stdout",
     "output_type": "stream",
     "text": [
      "The shortest distance is:\n",
      "1.0\n"
     ]
    }
   ],
   "source": [
    "## Test case 2 -- More points\n",
    "x = [0, 1, 2, 3, 5, 4]\n",
    "y = [2, 4, 4, 3, 10, 12]\n",
    "\n",
    "dist = shortest_distance(x, y)"
   ]
  },
  {
   "cell_type": "code",
   "execution_count": 5,
   "metadata": {},
   "outputs": [
    {
     "name": "stdout",
     "output_type": "stream",
     "text": [
      "The shortest distance is:\n",
      "1.0\n"
     ]
    }
   ],
   "source": [
    "# Test case 3 -- Repeated points -- I'm not sure what the problem scope would demand for a result here.\n",
    "# I am going to argue that a repeated point is not two distinct points based on my math philosiphy. \n",
    "# Real numbers are unique and there can only be one point in a location. \n",
    "# Therefore, code should not return zero distance\n",
    "\n",
    "x = [0, 0, 2, 3, 5, 4]\n",
    "y = [0, 0, 1, 1, 10, 12]\n",
    "\n",
    "dist = shortest_distance(x, y)"
   ]
  },
  {
   "cell_type": "code",
   "execution_count": 6,
   "metadata": {},
   "outputs": [
    {
     "name": "stdout",
     "output_type": "stream",
     "text": [
      "The shortest distance is:\n",
      "1.8027756377319946\n"
     ]
    }
   ],
   "source": [
    "# Test case 4 - Negative numbers/Decimals\n",
    "\n",
    "x = [-2, 0, 2, -3, 5, 4]\n",
    "y = [0, 0, 1, 1.5, 10, -12.6]\n",
    "\n",
    "dist = shortest_distance(x, y)"
   ]
  },
  {
   "cell_type": "code",
   "execution_count": 7,
   "metadata": {},
   "outputs": [
    {
     "name": "stdout",
     "output_type": "stream",
     "text": [
      "The shortest distance is:\n",
      "10.04987562112089\n"
     ]
    }
   ],
   "source": [
    "# Test case 5 - random n-size arrays\n",
    "\n",
    "# How many points in the field?\n",
    "n=1000\n",
    "\n",
    "# Range allowed on random intergers\n",
    "min_value = -10000\n",
    "max_value = 10000\n",
    "\n",
    "x = np.random.randint(min_value,max_value+1,n)\n",
    "y = np.random.randint(min_value,max_value+1,n)\n",
    "\n",
    "dist = shortest_distance(x, y)"
   ]
  },
  {
   "cell_type": "code",
   "execution_count": null,
   "metadata": {},
   "outputs": [],
   "source": []
  }
 ],
 "metadata": {
  "kernelspec": {
   "display_name": "Python 3",
   "language": "python",
   "name": "python3"
  },
  "language_info": {
   "codemirror_mode": {
    "name": "ipython",
    "version": 3
   },
   "file_extension": ".py",
   "mimetype": "text/x-python",
   "name": "python",
   "nbconvert_exporter": "python",
   "pygments_lexer": "ipython3",
   "version": "3.7.4"
  }
 },
 "nbformat": 4,
 "nbformat_minor": 2
}
