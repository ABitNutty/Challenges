{
 "cells": [
  {
   "cell_type": "markdown",
   "metadata": {},
   "source": [
    "Smart Scale\n",
    "\n",
    "A sales executive needs to simplify an assigned sales task. The task is to sell the items given to her in a bag, where each ID has a number. It is easier to sell items with the same ID numbers. The sales executive also decides to remove some items from the bag. The largest known number of items she can remove is known to her. \n",
    "\n",
    "Find the minimum number of different ID's the final bag can contain after removing the allowed number of items. \n",
    "\n",
    "\n",
    "# Result\n",
    "This function passed all 8 test cases on HackerRank\n"
   ]
  },
  {
   "cell_type": "code",
   "execution_count": null,
   "metadata": {},
   "outputs": [],
   "source": []
  },
  {
   "cell_type": "code",
   "execution_count": 1,
   "metadata": {},
   "outputs": [],
   "source": [
    "ids = [1,1,1,2,2,3,4,4,4,4]\n",
    "m = 2\n"
   ]
  },
  {
   "cell_type": "code",
   "execution_count": 24,
   "metadata": {},
   "outputs": [],
   "source": [
    "def deleteProducts(ids, m):\n",
    "    # Returns minimum number of unique IDs the final bag can contain after removing m elements\n",
    "    \n",
    "    # Counts and sorts dictionary by ID frequency\n",
    "    id_counts = dict( (id, ids.count(id)) for id in set(ids))\n",
    "    id_counts = {k: v for k, v in sorted(id_counts.items(), key=lambda item: item[1])}\n",
    "    \n",
    "    # Array sizes of interest -- n_ids not actually used\n",
    "    # n_ids = len(ids)\n",
    "    n_unique_ids = len(id_counts)\n",
    "    \n",
    "    # deletion_count will track how many items have been deleted to check to see if the next id can be deleted also\n",
    "    # deletion_list will be a list of keys to be deleted\n",
    "    deletion_count = 0\n",
    "    delete_list = []\n",
    "    \n",
    "    for id in list(id_counts.keys()):\n",
    "        # Checking if the each key count is small enough to be deleted\n",
    "        \n",
    "        if m-deletion_count >= id_counts[id]:\n",
    "            # Update delete list and delete count\n",
    "            delete_list.append(id)\n",
    "            deletion_count += id_counts[id]\n",
    "            \n",
    "    # Calculate new size after deletion     \n",
    "    min_unique_remaining = n_unique_ids - len(delete_list)\n",
    "    \n",
    "    return min_unique_remaining"
   ]
  },
  {
   "cell_type": "markdown",
   "metadata": {},
   "source": [
    "# Test Cases\n",
    "Below are my own test cases, not those of HackerRank"
   ]
  },
  {
   "cell_type": "code",
   "execution_count": 36,
   "metadata": {},
   "outputs": [
    {
     "data": {
      "text/plain": [
       "1"
      ]
     },
     "execution_count": 36,
     "metadata": {},
     "output_type": "execute_result"
    }
   ],
   "source": [
    "ids = [1,1,1,1]\n",
    "m = 2\n",
    "\n",
    "\n",
    "deleteProducts(ids, m)"
   ]
  },
  {
   "cell_type": "code",
   "execution_count": 37,
   "metadata": {},
   "outputs": [
    {
     "data": {
      "text/plain": [
       "1"
      ]
     },
     "execution_count": 37,
     "metadata": {},
     "output_type": "execute_result"
    }
   ],
   "source": [
    "ids = [1,2,3,1,2,2]\n",
    "m = 3\n",
    "\n",
    "deleteProducts(ids, m)"
   ]
  },
  {
   "cell_type": "code",
   "execution_count": 38,
   "metadata": {},
   "outputs": [
    {
     "data": {
      "text/plain": [
       "2"
      ]
     },
     "execution_count": 38,
     "metadata": {},
     "output_type": "execute_result"
    }
   ],
   "source": [
    "ids = [1,2,3,4]\n",
    "m = 2\n",
    "\n",
    "deleteProducts(ids, m)"
   ]
  },
  {
   "cell_type": "code",
   "execution_count": 39,
   "metadata": {},
   "outputs": [
    {
     "data": {
      "text/plain": [
       "3"
      ]
     },
     "execution_count": 39,
     "metadata": {},
     "output_type": "execute_result"
    }
   ],
   "source": [
    "ids = [1,1,1,2,2,3,4,4,4,4]\n",
    "m = 2\n",
    "\n",
    "deleteProducts(ids, m)"
   ]
  },
  {
   "cell_type": "code",
   "execution_count": 40,
   "metadata": {},
   "outputs": [
    {
     "data": {
      "text/plain": [
       "2"
      ]
     },
     "execution_count": 40,
     "metadata": {},
     "output_type": "execute_result"
    }
   ],
   "source": [
    "ids = [1,1,1,2,2,3,4,4,4,4]\n",
    "m = 5\n",
    "\n",
    "deleteProducts(ids, m)"
   ]
  },
  {
   "cell_type": "code",
   "execution_count": 42,
   "metadata": {},
   "outputs": [
    {
     "data": {
      "text/plain": [
       "1"
      ]
     },
     "execution_count": 42,
     "metadata": {},
     "output_type": "execute_result"
    }
   ],
   "source": [
    "ids = [1,1,1,2,2,3,4,4,4,4]\n",
    "m = 6\n",
    "\n",
    "deleteProducts(ids, m)"
   ]
  },
  {
   "cell_type": "code",
   "execution_count": null,
   "metadata": {},
   "outputs": [],
   "source": []
  },
  {
   "cell_type": "code",
   "execution_count": null,
   "metadata": {},
   "outputs": [],
   "source": []
  },
  {
   "cell_type": "code",
   "execution_count": null,
   "metadata": {},
   "outputs": [],
   "source": []
  },
  {
   "cell_type": "code",
   "execution_count": null,
   "metadata": {},
   "outputs": [],
   "source": []
  }
 ],
 "metadata": {
  "kernelspec": {
   "display_name": "Python 3",
   "language": "python",
   "name": "python3"
  },
  "language_info": {
   "codemirror_mode": {
    "name": "ipython",
    "version": 3
   },
   "file_extension": ".py",
   "mimetype": "text/x-python",
   "name": "python",
   "nbconvert_exporter": "python",
   "pygments_lexer": "ipython3",
   "version": "3.7.4"
  }
 },
 "nbformat": 4,
 "nbformat_minor": 2
}
